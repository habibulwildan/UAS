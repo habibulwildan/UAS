{
 "cells": [
  {
   "cell_type": "code",
   "execution_count": 1,
   "id": "afe59f98",
   "metadata": {},
   "outputs": [
    {
     "name": "stdout",
     "output_type": "stream",
     "text": [
      "masukkan angka :5\n",
      "[1, 5]\n"
     ]
    }
   ],
   "source": [
    "# kode 0\n",
    "a=int(input(\"masukkan angka :\"))\n",
    "h=[i for i in range(1,a+1) if a%i==0]\n",
    "print(h)"
   ]
  },
  {
   "cell_type": "code",
   "execution_count": 2,
   "id": "1f2fec4f",
   "metadata": {},
   "outputs": [
    {
     "name": "stdout",
     "output_type": "stream",
     "text": [
      "masukkan kalimat :Algoritma Pemrograman\n",
      "['A', 'o', 'i', 'a', 'e', 'o', 'a', 'a']\n"
     ]
    }
   ],
   "source": [
    "# uas kode 1\n",
    "vo=input(\"masukkan kalimat :\")\n",
    "v=[i for i in vo if i in \"AIUEOaiueo\"]\n",
    "print(v)"
   ]
  },
  {
   "cell_type": "code",
   "execution_count": 3,
   "id": "beb34890",
   "metadata": {},
   "outputs": [
    {
     "name": "stdout",
     "output_type": "stream",
     "text": [
      "[9, 8, 7, 6, 5, 4, 3]\n"
     ]
    }
   ],
   "source": [
    "# uas kode 3\n",
    "data=[3,4,5,6,7,8,9]\n",
    "b=[data[i] for i in range(len(data)-1,-1,-1)]\n",
    "print(b)"
   ]
  }
 ],
 "metadata": {
  "kernelspec": {
   "display_name": "Python 3 (ipykernel)",
   "language": "python",
   "name": "python3"
  },
  "language_info": {
   "codemirror_mode": {
    "name": "ipython",
    "version": 3
   },
   "file_extension": ".py",
   "mimetype": "text/x-python",
   "name": "python",
   "nbconvert_exporter": "python",
   "pygments_lexer": "ipython3",
   "version": "3.9.12"
  }
 },
 "nbformat": 4,
 "nbformat_minor": 5
}
